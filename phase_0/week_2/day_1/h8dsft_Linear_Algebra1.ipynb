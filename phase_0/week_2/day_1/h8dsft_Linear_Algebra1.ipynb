{
 "cells": [
  {
   "cell_type": "markdown",
   "metadata": {},
   "source": [
    "1. Buatlah vektor dibawah ini dengan Python (17 22 19)"
   ]
  },
  {
   "cell_type": "code",
   "execution_count": 62,
   "metadata": {},
   "outputs": [],
   "source": [
    "import numpy as np\n",
    "import matplotlib.pyplot as plt"
   ]
  },
  {
   "cell_type": "code",
   "execution_count": 87,
   "metadata": {},
   "outputs": [
    {
     "data": {
      "text/plain": [
       "array([17, 22, 19])"
      ]
     },
     "execution_count": 87,
     "metadata": {},
     "output_type": "execute_result"
    }
   ],
   "source": [
    "a = np.array([17,22,19])\n",
    "a"
   ]
  },
  {
   "cell_type": "markdown",
   "metadata": {},
   "source": [
    "2. Diberikan 3 buah vector 3 dimensi:"
   ]
  },
  {
   "cell_type": "code",
   "execution_count": 79,
   "metadata": {},
   "outputs": [
    {
     "data": {
      "text/plain": [
       "array([10, 20, 11])"
      ]
     },
     "execution_count": 79,
     "metadata": {},
     "output_type": "execute_result"
    }
   ],
   "source": [
    "b = np.array([10,20,11])\n",
    "b"
   ]
  },
  {
   "cell_type": "code",
   "execution_count": 80,
   "metadata": {},
   "outputs": [
    {
     "data": {
      "text/plain": [
       "array([ 5, 12,  9])"
      ]
     },
     "execution_count": 80,
     "metadata": {},
     "output_type": "execute_result"
    }
   ],
   "source": [
    "c = np.array([5,12,9])\n",
    "c"
   ]
  },
  {
   "cell_type": "code",
   "execution_count": 86,
   "metadata": {},
   "outputs": [
    {
     "name": "stdout",
     "output_type": "stream",
     "text": [
      "[27 42 30]\n",
      " \n",
      "[5 8 2]\n",
      " \n",
      "[170 440 209]\n",
      " \n",
      "33.67491648096547\n",
      " \n",
      " \n",
      "Sudut antara vektor a dan b adalah 12.588900662180242\n"
     ]
    }
   ],
   "source": [
    "print(a+b) \n",
    "print(' ')\n",
    "print(b-c)\n",
    "print(' ')\n",
    "print(a*b)\n",
    "print(' ')\n",
    "print(np.linalg.norm(a))\n",
    "print(\" \")\n",
    "a @ c\n",
    "print(' ')\n",
    "cos_theta = a @ b /((np.linalg.norm(a))*np.linalg.norm(b))\n",
    "radian = np.arccos(cos_theta)\n",
    "degree = np.degrees(radian)\n",
    "print(f'Sudut antara vektor a dan b adalah {degree}')\n"
   ]
  },
  {
   "cell_type": "markdown",
   "metadata": {},
   "source": [
    "3. Buatlah plot dari vector berikut ini ke dalam bidang 2D"
   ]
  },
  {
   "cell_type": "code",
   "execution_count": 71,
   "metadata": {},
   "outputs": [],
   "source": [
    "u = ([2,5])\n",
    "v = ([3,1])"
   ]
  },
  {
   "cell_type": "code",
   "execution_count": 73,
   "metadata": {},
   "outputs": [],
   "source": [
    "def plot_vector2d(vector2d, origin=[0, 0], **options):\n",
    "    return plt.arrow(origin[0], origin[1], vector2d[0], vector2d[1],\n",
    "              head_width=0.2, head_length=0.3, length_includes_head=True,\n",
    "              **options)"
   ]
  },
  {
   "cell_type": "code",
   "execution_count": 74,
   "metadata": {},
   "outputs": [
    {
     "data": {
      "image/png": "[encoded data removed]",
      "text/plain": [
       "<Figure size 432x288 with 1 Axes>"
      ]
     },
     "metadata": {
      "needs_background": "light"
     },
     "output_type": "display_data"
    }
   ],
   "source": [
    "plot_vector2d(v, color='r') # vector I\n",
    "plot_vector2d(u, color='g') # vector II\n",
    "\n",
    "\n",
    "plt.axis([0,5,0,5]) # rentang axis sumbu x dan y\n",
    "plt.axvline(0,0)\n",
    "plt.axhline(0,0)\n",
    "plt.grid()\n",
    "plt.show()"
   ]
  }
 ],
 "metadata": {
  "kernelspec": {
   "display_name": "Python 3.9.12 ('base')",
   "language": "python",
   "name": "python3"
  },
  "language_info": {
   "codemirror_mode": {
    "name": "ipython",
    "version": 3
   },
   "file_extension": ".py",
   "mimetype": "text/x-python",
   "name": "python",
   "nbconvert_exporter": "python",
   "pygments_lexer": "ipython3",
   "version": "3.9.12"
  },
  "orig_nbformat": 4,
  "vscode": {
   "interpreter": {
    "hash": "a1e1a152066122ccb36bd19c85ab646f64e9a78c298b07636d8dbaa9de0e7be5"
   }
  }
 },
 "nbformat": 4,
 "nbformat_minor": 2
}
