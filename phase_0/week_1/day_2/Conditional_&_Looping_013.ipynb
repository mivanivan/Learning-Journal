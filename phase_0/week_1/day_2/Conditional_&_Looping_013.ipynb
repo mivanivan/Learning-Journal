{
 "cells": [
  {
   "cell_type": "code",
   "execution_count": 1,
   "metadata": {},
   "outputs": [],
   "source": [
    "#Variabel\n",
    "x = 'hallo'"
   ]
  },
  {
   "cell_type": "code",
   "execution_count": 2,
   "metadata": {},
   "outputs": [
    {
     "name": "stdout",
     "output_type": "stream",
     "text": [
      "hallo\n"
     ]
    }
   ],
   "source": [
    "print(x)"
   ]
  },
  {
   "cell_type": "code",
   "execution_count": 3,
   "metadata": {},
   "outputs": [
    {
     "name": "stdout",
     "output_type": "stream",
     "text": [
      "5\n"
     ]
    }
   ],
   "source": [
    "y=5\n",
    "y\n",
    "print(y)"
   ]
  },
  {
   "cell_type": "code",
   "execution_count": 4,
   "metadata": {},
   "outputs": [
    {
     "data": {
      "text/plain": [
       "5.5"
      ]
     },
     "execution_count": 4,
     "metadata": {},
     "output_type": "execute_result"
    }
   ],
   "source": [
    "k=5.5\n",
    "print(k)"
   ]
  },
  {
   "cell_type": "markdown",
   "metadata": {},
   "source": [
    "CONDITIONAL \n",
    "if<kondisi>:\n",
    "..( statement ) \n",
    "..( statement )"
   ]
  },
  {
   "cell_type": "code",
   "execution_count": 6,
   "metadata": {},
   "outputs": [
    {
     "name": "stdout",
     "output_type": "stream",
     "text": [
      "hallo\n",
      "statement 2\n"
     ]
    }
   ],
   "source": [
    "if True:\n",
    "    print('hallo')\n",
    "    print('statement 2')"
   ]
  },
  {
   "cell_type": "code",
   "execution_count": 34,
   "metadata": {},
   "outputs": [
    {
     "name": "stdout",
     "output_type": "stream",
     "text": [
      "5 dibawah 10\n"
     ]
    }
   ],
   "source": [
    "\n",
    "nomor = eval(input ('Masukan Nomor Favorit Anda'))\n",
    "if nomor > 30:\n",
    "    print(f'{nomor} diatas 30')\n",
    "    #elif bisa ada banyak if dan else cuma 1\n",
    "elif nomor == 30:\n",
    "    print(f'{nomor} sama dengan')\n",
    "elif 10 < nomor < 20:\n",
    "    print(f'{nomor} di atas 10 dibawah 20')\n",
    "else:\n",
    "    print(f'{nomor} dibawah 10')\n",
    "    "
   ]
  },
  {
   "cell_type": "code",
   "execution_count": 11,
   "metadata": {},
   "outputs": [
    {
     "data": {
      "text/plain": [
       "False"
      ]
     },
     "execution_count": 11,
     "metadata": {},
     "output_type": "execute_result"
    }
   ],
   "source": [
    "A : 80 <= x <= 100\n",
    "B : 70 <= x < 80\n",
    "C : 60 <= x < 70\n",
    "D : 40 <= x < 60\n",
    "E: 0 <= x < 40"
   ]
  },
  {
   "cell_type": "code",
   "execution_count": 49,
   "metadata": {},
   "outputs": [
    {
     "name": "stdout",
     "output_type": "stream",
     "text": [
      "Angka tidak valid\n"
     ]
    }
   ],
   "source": [
    "nilai = eval(input ('Masukan Nilai Anda ' ))\n",
    "if 0 <= nilai <= 100:\n",
    "    if nilai < 40:\n",
    "        print (f'{nilai} adalah indeks E')\n",
    "    elif nilai <60:\n",
    "        print (f'{nilai} adalah indeks D')\n",
    "    elif nilai <80:\n",
    "        print (f'{nilai} adalah indeks B')\n",
    "    else:\n",
    "        print(f'{nilai} adalah indeks A')\n",
    "else:\n",
    "    print('Angka tidak valid')"
   ]
  },
  {
   "cell_type": "code",
   "execution_count": 50,
   "metadata": {},
   "outputs": [
    {
     "name": "stdout",
     "output_type": "stream",
     "text": [
      "['Tokyo', 'Surabaya', 'Yogyakarta', 'Medan', 'Paris']\n",
      "Tokyo berada dalam list cities\n"
     ]
    }
   ],
   "source": [
    "cities = ['Tokyo', 'Surabaya', 'Yogyakarta', 'Medan', 'Paris']\n",
    "print(cities)\n",
    "kota = 'Tokyo'\n",
    "if kota in cities:\n",
    "    print (f'{kota} berada dalam list cities')"
   ]
  },
  {
   "cell_type": "markdown",
   "metadata": {},
   "source": [
    "LOOPING\n",
    "#While loop"
   ]
  },
  {
   "cell_type": "code",
   "execution_count": 53,
   "metadata": {},
   "outputs": [
    {
     "name": "stdout",
     "output_type": "stream",
     "text": [
      "0\n",
      "1\n",
      "2\n",
      "3\n",
      "4\n"
     ]
    }
   ],
   "source": [
    "angka = 4\n",
    "angka = angka + 1\n",
    "i = 0\n",
    "while i < 5:\n",
    "    print(i)\n",
    "    i = i + 1"
   ]
  },
  {
   "cell_type": "markdown",
   "metadata": {},
   "source": [
    "# nested while"
   ]
  },
  {
   "cell_type": "code",
   "execution_count": 60,
   "metadata": {},
   "outputs": [
    {
     "name": "stdout",
     "output_type": "stream",
     "text": [
      "1x1 = 1\n",
      "1x2 = 2\n",
      "1x3 = 3\n",
      "1x4 = 4\n",
      "1x5 = 5\n",
      "1x6 = 6\n",
      "1x7 = 7\n",
      "1x8 = 8\n",
      "1x9 = 9\n",
      "1x10 = 10\n",
      "==========\n",
      "2x1 = 2\n",
      "2x2 = 4\n",
      "2x3 = 6\n",
      "2x4 = 8\n",
      "2x5 = 10\n",
      "2x6 = 12\n",
      "2x7 = 14\n",
      "2x8 = 16\n",
      "2x9 = 18\n",
      "2x10 = 20\n",
      "==========\n",
      "3x1 = 3\n",
      "3x2 = 6\n",
      "3x3 = 9\n",
      "3x4 = 12\n",
      "3x5 = 15\n",
      "3x6 = 18\n",
      "3x7 = 21\n",
      "3x8 = 24\n",
      "3x9 = 27\n",
      "3x10 = 30\n",
      "==========\n",
      "4x1 = 4\n",
      "4x2 = 8\n",
      "4x3 = 12\n",
      "4x4 = 16\n",
      "4x5 = 20\n",
      "4x6 = 24\n",
      "4x7 = 28\n",
      "4x8 = 32\n",
      "4x9 = 36\n",
      "4x10 = 40\n",
      "==========\n",
      "5x1 = 5\n",
      "5x2 = 10\n",
      "5x3 = 15\n",
      "5x4 = 20\n",
      "5x5 = 25\n",
      "5x6 = 30\n",
      "5x7 = 35\n",
      "5x8 = 40\n",
      "5x9 = 45\n",
      "5x10 = 50\n",
      "==========\n",
      "6x1 = 6\n",
      "6x2 = 12\n",
      "6x3 = 18\n",
      "6x4 = 24\n",
      "6x5 = 30\n",
      "6x6 = 36\n",
      "6x7 = 42\n",
      "6x8 = 48\n",
      "6x9 = 54\n",
      "6x10 = 60\n",
      "==========\n",
      "7x1 = 7\n",
      "7x2 = 14\n",
      "7x3 = 21\n",
      "7x4 = 28\n",
      "7x5 = 35\n",
      "7x6 = 42\n",
      "7x7 = 49\n",
      "7x8 = 56\n",
      "7x9 = 63\n",
      "7x10 = 70\n",
      "==========\n",
      "8x1 = 8\n",
      "8x2 = 16\n",
      "8x3 = 24\n",
      "8x4 = 32\n",
      "8x5 = 40\n",
      "8x6 = 48\n",
      "8x7 = 56\n",
      "8x8 = 64\n",
      "8x9 = 72\n",
      "8x10 = 80\n",
      "==========\n",
      "9x1 = 9\n",
      "9x2 = 18\n",
      "9x3 = 27\n",
      "9x4 = 36\n",
      "9x5 = 45\n",
      "9x6 = 54\n",
      "9x7 = 63\n",
      "9x8 = 72\n",
      "9x9 = 81\n",
      "9x10 = 90\n",
      "==========\n",
      "10x1 = 10\n",
      "10x2 = 20\n",
      "10x3 = 30\n",
      "10x4 = 40\n",
      "10x5 = 50\n",
      "10x6 = 60\n",
      "10x7 = 70\n",
      "10x8 = 80\n",
      "10x9 = 90\n",
      "10x10 = 100\n",
      "==========\n"
     ]
    }
   ],
   "source": [
    "i = 1\n",
    "j = 1\n",
    "\n",
    "while i <= 10:\n",
    "    while j<= 10:\n",
    "        print(f'{i}x{j} = {i*j}')\n",
    "        j = j + 1\n",
    "    print('='*10)\n",
    "    i = i + 1\n",
    "    j = 1"
   ]
  },
  {
   "cell_type": "code",
   "execution_count": 61,
   "metadata": {},
   "outputs": [
    {
     "name": "stdout",
     "output_type": "stream",
     "text": [
      "i dibawah 5\n"
     ]
    }
   ],
   "source": [
    "i = 10\n",
    "\n",
    "while i < 5:\n",
    "    print('i dibawah 5')\n",
    "else:\n",
    "    print('i dibawah 5')"
   ]
  },
  {
   "cell_type": "markdown",
   "metadata": {},
   "source": [
    "FOR LOOP"
   ]
  },
  {
   "cell_type": "code",
   "execution_count": 64,
   "metadata": {},
   "outputs": [
    {
     "name": "stdout",
     "output_type": "stream",
     "text": [
      "['Tokyo', 'Surabaya', 'Yogyakarta', 'Medan', 'Paris', 'Labuan Bajo', 'Kalimantan Selatan', 'Labuan Bajo', 'Kalimantan Selatan']\n",
      "Tokyo\n",
      "Surabaya\n",
      "Yogyakarta\n",
      "Medan\n",
      "Paris\n",
      "Labuan Bajo\n",
      "Kalimantan Selatan\n",
      "Labuan Bajo\n",
      "Kalimantan Selatan\n"
     ]
    }
   ],
   "source": [
    "cities = cities + ['Labuan Bajo', 'Kalimantan Selatan']\n",
    "print(cities)\n",
    "\n",
    "for i in cities:\n",
    "    print(i)"
   ]
  },
  {
   "cell_type": "code",
   "execution_count": 70,
   "metadata": {},
   "outputs": [
    {
     "name": "stdout",
     "output_type": "stream",
     "text": [
      "[1, 2, 3, 4, 5, 6, 7, 8, 9]\n",
      "1 * 1 = 1\n",
      "1 * 2 = 2\n",
      "1 * 3 = 3\n",
      "1 * 4 = 4\n",
      "1 * 5 = 5\n",
      "1 * 6 = 6\n",
      "1 * 7 = 7\n",
      "1 * 8 = 8\n",
      "1 * 9 = 9\n",
      "1 * 10 = 10\n",
      "==========\n",
      "2 * 1 = 2\n",
      "2 * 2 = 4\n",
      "2 * 3 = 6\n",
      "2 * 4 = 8\n",
      "2 * 5 = 10\n",
      "2 * 6 = 12\n",
      "2 * 7 = 14\n",
      "2 * 8 = 16\n",
      "2 * 9 = 18\n",
      "2 * 10 = 20\n",
      "==========\n",
      "3 * 1 = 3\n",
      "3 * 2 = 6\n",
      "3 * 3 = 9\n",
      "3 * 4 = 12\n",
      "3 * 5 = 15\n",
      "3 * 6 = 18\n",
      "3 * 7 = 21\n",
      "3 * 8 = 24\n",
      "3 * 9 = 27\n",
      "3 * 10 = 30\n",
      "==========\n",
      "4 * 1 = 4\n",
      "4 * 2 = 8\n",
      "4 * 3 = 12\n",
      "4 * 4 = 16\n",
      "4 * 5 = 20\n",
      "4 * 6 = 24\n",
      "4 * 7 = 28\n",
      "4 * 8 = 32\n",
      "4 * 9 = 36\n",
      "4 * 10 = 40\n",
      "==========\n",
      "5 * 1 = 5\n",
      "5 * 2 = 10\n",
      "5 * 3 = 15\n",
      "5 * 4 = 20\n",
      "5 * 5 = 25\n",
      "5 * 6 = 30\n",
      "5 * 7 = 35\n",
      "5 * 8 = 40\n",
      "5 * 9 = 45\n",
      "5 * 10 = 50\n",
      "==========\n",
      "6 * 1 = 6\n",
      "6 * 2 = 12\n",
      "6 * 3 = 18\n",
      "6 * 4 = 24\n",
      "6 * 5 = 30\n",
      "6 * 6 = 36\n",
      "6 * 7 = 42\n",
      "6 * 8 = 48\n",
      "6 * 9 = 54\n",
      "6 * 10 = 60\n",
      "==========\n",
      "7 * 1 = 7\n",
      "7 * 2 = 14\n",
      "7 * 3 = 21\n",
      "7 * 4 = 28\n",
      "7 * 5 = 35\n",
      "7 * 6 = 42\n",
      "7 * 7 = 49\n",
      "7 * 8 = 56\n",
      "7 * 9 = 63\n",
      "7 * 10 = 70\n",
      "==========\n",
      "8 * 1 = 8\n",
      "8 * 2 = 16\n",
      "8 * 3 = 24\n",
      "8 * 4 = 32\n",
      "8 * 5 = 40\n",
      "8 * 6 = 48\n",
      "8 * 7 = 56\n",
      "8 * 8 = 64\n",
      "8 * 9 = 72\n",
      "8 * 10 = 80\n",
      "==========\n",
      "9 * 1 = 9\n",
      "9 * 2 = 18\n",
      "9 * 3 = 27\n",
      "9 * 4 = 36\n",
      "9 * 5 = 45\n",
      "9 * 6 = 54\n",
      "9 * 7 = 63\n",
      "9 * 8 = 72\n",
      "9 * 9 = 81\n",
      "9 * 10 = 90\n",
      "==========\n",
      "10 * 1 = 10\n",
      "10 * 2 = 20\n",
      "10 * 3 = 30\n",
      "10 * 4 = 40\n",
      "10 * 5 = 50\n",
      "10 * 6 = 60\n",
      "10 * 7 = 70\n",
      "10 * 8 = 80\n",
      "10 * 9 = 90\n",
      "10 * 10 = 100\n",
      "==========\n"
     ]
    }
   ],
   "source": [
    "print(list(range(1,10)))\n",
    "\n",
    "for i in range(1,11):\n",
    "    for j in range(1,11):\n",
    "        print (f'{i} * {j} = {i*j}')\n",
    "        j = j + 1\n",
    "    print(\"=\"*10)\n",
    "    i = i + 1\n",
    "    j = 1"
   ]
  },
  {
   "cell_type": "code",
   "execution_count": 71,
   "metadata": {},
   "outputs": [
    {
     "data": {
      "text/plain": [
       "['Tokyo',\n",
       " 'Surabaya',\n",
       " 'Yogyakarta',\n",
       " 'Medan',\n",
       " 'Paris',\n",
       " 'Labuan Bajo',\n",
       " 'Kalimantan Selatan',\n",
       " 'Labuan Bajo',\n",
       " 'Kalimantan Selatan']"
      ]
     },
     "execution_count": 71,
     "metadata": {},
     "output_type": "execute_result"
    }
   ],
   "source": [
    "cities"
   ]
  },
  {
   "cell_type": "code",
   "execution_count": 72,
   "metadata": {},
   "outputs": [
    {
     "name": "stdout",
     "output_type": "stream",
     "text": [
      "Tokyo\n",
      "Surabaya\n",
      "Yogyakarta\n",
      "Medan\n",
      "Paris\n",
      "Labuan Bajo\n",
      "Kalimantan Selatan\n",
      "Labuan Bajo\n",
      "Kalimantan Selatan\n"
     ]
    }
   ],
   "source": [
    "idx = 0\n",
    "while idx < len (cities):\n",
    "    print(cities[idx])\n",
    "    idx = idx +1"
   ]
  },
  {
   "cell_type": "markdown",
   "metadata": {},
   "source": [
    "FLOW CONTROL STATEMENT"
   ]
  },
  {
   "cell_type": "code",
   "execution_count": 73,
   "metadata": {},
   "outputs": [
    {
     "name": "stdout",
     "output_type": "stream",
     "text": [
      "0\n",
      "1\n",
      "3\n",
      "4\n",
      "5\n",
      "8\n",
      "10\n"
     ]
    }
   ],
   "source": [
    "# continue\n",
    "for i in range(0, 11):\n",
    "    if i in [2, 6, 7, 9]:\n",
    "        continue\n",
    "    print (i)\n",
    "\n"
   ]
  },
  {
   "cell_type": "code",
   "execution_count": 75,
   "metadata": {},
   "outputs": [
    {
     "name": "stdout",
     "output_type": "stream",
     "text": [
      "0\n",
      "1\n"
     ]
    }
   ],
   "source": [
    "# break\n",
    "for i in range (0,11):\n",
    "    if i in [2, 6, 7, 9]:\n",
    "        break\n",
    "    print (i)\n",
    "    "
   ]
  },
  {
   "cell_type": "code",
   "execution_count": 79,
   "metadata": {},
   "outputs": [
    {
     "name": "stdout",
     "output_type": "stream",
     "text": [
      "2x 1 = 2\n",
      "2x 2 = 4\n",
      "2x 3 = 6\n",
      "2x 4 = 8\n",
      "2x 5 = 10\n",
      "2x 6 = 12\n",
      "2x 7 = 14\n",
      "2x 8 = 16\n",
      "2x 9 = 18\n",
      "2x 10 = 20\n",
      "==========\n",
      "3x 1 = 3\n",
      "3x 2 = 6\n",
      "3x 3 = 9\n",
      "3x 4 = 12\n",
      "3x 5 = 15\n",
      "3x 6 = 18\n",
      "3x 7 = 21\n",
      "3x 8 = 24\n",
      "3x 9 = 27\n",
      "3x 10 = 30\n",
      "==========\n",
      "7x 1 = 7\n",
      "7x 2 = 14\n",
      "7x 3 = 21\n",
      "7x 4 = 28\n",
      "7x 5 = 35\n",
      "7x 6 = 42\n",
      "7x 7 = 49\n",
      "7x 8 = 56\n",
      "7x 9 = 63\n",
      "7x 10 = 70\n",
      "==========\n",
      "8x 1 = 8\n",
      "8x 2 = 16\n",
      "8x 3 = 24\n",
      "8x 4 = 32\n",
      "8x 5 = 40\n",
      "8x 6 = 48\n",
      "8x 7 = 56\n",
      "8x 8 = 64\n",
      "8x 9 = 72\n",
      "8x 10 = 80\n",
      "==========\n",
      "9x 1 = 9\n",
      "9x 2 = 18\n",
      "9x 3 = 27\n",
      "9x 4 = 36\n",
      "9x 5 = 45\n",
      "9x 6 = 54\n",
      "9x 7 = 63\n",
      "9x 8 = 72\n",
      "9x 9 = 81\n",
      "9x 10 = 90\n",
      "==========\n",
      "10x 1 = 10\n",
      "10x 2 = 20\n",
      "10x 3 = 30\n",
      "10x 4 = 40\n",
      "10x 5 = 50\n",
      "10x 6 = 60\n",
      "10x 7 = 70\n",
      "10x 8 = 80\n",
      "10x 9 = 90\n",
      "10x 10 = 100\n",
      "==========\n",
      "11x 1 = 11\n",
      "11x 2 = 22\n",
      "11x 3 = 33\n",
      "11x 4 = 44\n",
      "11x 5 = 55\n",
      "11x 6 = 66\n",
      "11x 7 = 77\n",
      "11x 8 = 88\n",
      "11x 9 = 99\n",
      "11x 10 = 110\n",
      "==========\n"
     ]
    }
   ],
   "source": [
    "i = 1\n",
    "j = 1\n",
    "\n",
    "while i <= 10:\n",
    "    i = i + 1\n",
    "    j = 1\n",
    "    if i in [4,5,6]:\n",
    "        continue\n",
    "    while j <= 10:\n",
    "        print (f'{i}x {j} = {i*j}')\n",
    "        j = j + 1\n",
    "    print('='*10)\n"
   ]
  },
  {
   "cell_type": "code",
   "execution_count": 86,
   "metadata": {},
   "outputs": [
    {
     "name": "stdout",
     "output_type": "stream",
     "text": [
      "0 adalah indeks E\n",
      "{'rafif': 70, 'dwi': 80, 'ezar': 85}\n",
      "dict_keys(['rafif', 'dwi', 'ezar'])\n",
      "dict_values([70, 80, 85])\n",
      "dict_items([('rafif', 70), ('dwi', 80), ('ezar', 85)])\n"
     ]
    }
   ],
   "source": [
    "nilai = 0\n",
    "if 0 <= nilai <= 100:\n",
    "    if nilai < 40:\n",
    "        print (f'{nilai} adalah indeks E')\n",
    "    elif nilai <60:\n",
    "        print (f'{nilai} adalah indeks D')\n",
    "    elif nilai <80:\n",
    "        print (f'{nilai} adalah indeks B')\n",
    "    else:\n",
    "        print(f'{nilai} adalah indeks A')\n",
    "else:\n",
    "    print('Angka tidak valid')\n",
    "\n",
    "# rafif nilai 70, ddwi nilai 80, ezar nilai 85\n",
    "d = {'rafif' : 70 , 'dwi' : 80, 'ezar' : 85}\n",
    "print(d)\n",
    "print(d.keys())\n",
    "print(d.values())\n",
    "print(d.items())"
   ]
  },
  {
   "cell_type": "code",
   "execution_count": 89,
   "metadata": {},
   "outputs": [
    {
     "name": "stdout",
     "output_type": "stream",
     "text": [
      "rafif dengan nilai 70\n",
      "dwi dengan nilai 80\n",
      "ezar dengan nilai 85\n"
     ]
    }
   ],
   "source": [
    "for nama, nilai in d.items():\n",
    "    print(nama, 'dengan nilai', nilai)"
   ]
  },
  {
   "cell_type": "code",
   "execution_count": 92,
   "metadata": {},
   "outputs": [
    {
     "data": {
      "text/plain": [
       "{'rafif': 'B', 'dwi': 'A', 'ezar': 'A'}"
      ]
     },
     "execution_count": 92,
     "metadata": {},
     "output_type": "execute_result"
    }
   ],
   "source": [
    "grade = {}\n",
    "\n",
    "for nama, x in d.items():\n",
    "  if 0 <= x <= 100:\n",
    "    if 80 <= x:\n",
    "      grade[nama] = 'A'\n",
    "    elif 70 <= x:\n",
    "      grade[nama] = 'B'\n",
    "    elif x >= 60:\n",
    "      grade[nama] = 'C'\n",
    "    elif x >= 40:\n",
    "      grade[nama] = 'D'\n",
    "    else:\n",
    "      grade[nama] = 'E'\n",
    "  else:\n",
    "    print('Angka tidak valid')\n",
    "grade\n"
   ]
  },
  {
   "cell_type": "code",
   "execution_count": 104,
   "metadata": {},
   "outputs": [
    {
     "name": "stdout",
     "output_type": "stream",
     "text": [
      "<class 'list'>\n"
     ]
    },
    {
     "data": {
      "text/plain": [
       "[6, 7, 8, 9, 10]"
      ]
     },
     "execution_count": 104,
     "metadata": {},
     "output_type": "execute_result"
    }
   ],
   "source": [
    "angka = [1, 2, 3, 4, 5, 6, 7, 8, 9, 10]\n",
    "print(type(angka))\n",
    "\n",
    "above_5 = []\n",
    "\n",
    "for value in angka:\n",
    "  if value > 5:\n",
    "    above_5.append(value)\n",
    "\n",
    "above_5"
   ]
  },
  {
   "cell_type": "code",
   "execution_count": null,
   "metadata": {},
   "outputs": [],
   "source": []
  }
 ],
 "metadata": {
  "kernelspec": {
   "display_name": "Python 3.9.12 ('base')",
   "language": "python",
   "name": "python3"
  },
  "language_info": {
   "codemirror_mode": {
    "name": "ipython",
    "version": 3
   },
   "file_extension": ".py",
   "mimetype": "text/x-python",
   "name": "python",
   "nbconvert_exporter": "python",
   "pygments_lexer": "ipython3",
   "version": "3.9.12"
  },
  "orig_nbformat": 4,
  "vscode": {
   "interpreter": {
    "hash": "a1e1a152066122ccb36bd19c85ab646f64e9a78c298b07636d8dbaa9de0e7be5"
   }
  }
 },
 "nbformat": 4,
 "nbformat_minor": 2
}
