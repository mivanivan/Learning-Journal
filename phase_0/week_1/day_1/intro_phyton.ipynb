{
 "cells": [
  {
   "cell_type": "code",
   "execution_count": 6,
   "metadata": {},
   "outputs": [
    {
     "name": "stdout",
     "output_type": "stream",
     "text": [
      "5\n"
     ]
    },
    {
     "data": {
      "text/plain": [
       "int"
      ]
     },
     "execution_count": 6,
     "metadata": {},
     "output_type": "execute_result"
    }
   ],
   "source": [
    "#Pengenalan Jenis Data\n",
    "#Interger Float Complex\n",
    "\n",
    "#Interger\n",
    "angka = 5\n",
    "print(angka)\n",
    "type(angka)"
   ]
  },
  {
   "cell_type": "code",
   "execution_count": 7,
   "metadata": {},
   "outputs": [
    {
     "name": "stdout",
     "output_type": "stream",
     "text": [
      "4.2\n"
     ]
    },
    {
     "data": {
      "text/plain": [
       "float"
      ]
     },
     "execution_count": 7,
     "metadata": {},
     "output_type": "execute_result"
    }
   ],
   "source": [
    "#Float\n",
    "number = 4.2\n",
    "print(number)\n",
    "type(number)\n"
   ]
  },
  {
   "cell_type": "code",
   "execution_count": 8,
   "metadata": {},
   "outputs": [
    {
     "name": "stdout",
     "output_type": "stream",
     "text": [
      "(4+5j)\n"
     ]
    },
    {
     "data": {
      "text/plain": [
       "complex"
      ]
     },
     "execution_count": 8,
     "metadata": {},
     "output_type": "execute_result"
    }
   ],
   "source": [
    "#Complex\n",
    "persamaan = 4+5j\n",
    "print(persamaan)\n",
    "type(persamaan)"
   ]
  },
  {
   "cell_type": "code",
   "execution_count": 9,
   "metadata": {},
   "outputs": [
    {
     "name": "stdout",
     "output_type": "stream",
     "text": [
      "4700000000.0\n"
     ]
    }
   ],
   "source": [
    "angka = 4.7e9\n",
    "print(angka)"
   ]
  },
  {
   "cell_type": "code",
   "execution_count": 10,
   "metadata": {},
   "outputs": [
    {
     "name": "stdout",
     "output_type": "stream",
     "text": [
      "4.7e-05\n"
     ]
    }
   ],
   "source": [
    "angka= 4.7e-5\n",
    "print(angka)"
   ]
  },
  {
   "cell_type": "code",
   "execution_count": 14,
   "metadata": {},
   "outputs": [
    {
     "name": "stdout",
     "output_type": "stream",
     "text": [
      "Ivan\n",
      "<class 'str'>\n",
      "Jum'at\n"
     ]
    }
   ],
   "source": [
    "#string: seq. of char\n",
    "nama = \"Ivan\"\n",
    "print(nama)\n",
    "print(type(nama))\n",
    "hari= \"Jum'at\"\n",
    "print(hari)"
   ]
  },
  {
   "cell_type": "code",
   "execution_count": 19,
   "metadata": {},
   "outputs": [
    {
     "name": "stdout",
     "output_type": "stream",
     "text": [
      "Kita adalah sepasang sepatu \n",
      "selalu bersama tapi bisa bersatu kita mati bagai tak berjiwa bergerak karena kaki manusia\n",
      "aku sang sepatu kanan kamu sang sepatu kiri\n"
     ]
    }
   ],
   "source": [
    "lirik = \"\"\"Kita adalah sepasang sepatu \n",
    "selalu bersama tapi bisa bersatu kita mati bagai tak berjiwa bergerak karena kaki manusia\n",
    "aku sang sepatu kanan kamu sang sepatu kiri\"\"\"\n",
    "print(lirik)"
   ]
  },
  {
   "cell_type": "code",
   "execution_count": 23,
   "metadata": {},
   "outputs": [
    {
     "name": "stdout",
     "output_type": "stream",
     "text": [
      "d\n",
      "v\n",
      "Ivan\n",
      "MhmdIa\n",
      "a\n"
     ]
    }
   ],
   "source": [
    "nama = \"Muhamad Ivan\"\n",
    "print(nama[6])\n",
    "print(nama[-3])\n",
    "print(nama[8:13:1])\n",
    "print(nama[0:13:2])\n",
    "print(nama[5:6])"
   ]
  },
  {
   "cell_type": "code",
   "execution_count": 24,
   "metadata": {},
   "outputs": [
    {
     "name": "stdout",
     "output_type": "stream",
     "text": [
      "Nama kamu adalah : Ivan dan usia kamu adalah 26\n"
     ]
    }
   ],
   "source": [
    "# string formatting\n",
    "# f-string\n",
    "nama = \"Ivan\"\n",
    "usia = 26\n",
    "print(f\"Nama kamu adalah : {nama} dan usia kamu adalah {usia}\")"
   ]
  },
  {
   "cell_type": "markdown",
   "metadata": {},
   "source": [
    "USER INPUT PROGRAM"
   ]
  },
  {
   "cell_type": "code",
   "execution_count": 25,
   "metadata": {},
   "outputs": [
    {
     "name": "stdout",
     "output_type": "stream",
     "text": [
      "Nama kamu adalah : Muhamad Ivan dan usia kamu adalah : 25 Tahun\n"
     ]
    }
   ],
   "source": [
    "nama = input (\"Masukkan nama Anda : \")\n",
    "usia = input (\"Masukkan usia Anda : \")\n",
    "print(f\"Nama kamu adalah : {nama} dan usia kamu adalah : {usia}\")"
   ]
  },
  {
   "cell_type": "code",
   "execution_count": 26,
   "metadata": {},
   "outputs": [
    {
     "name": "stdout",
     "output_type": "stream",
     "text": [
      "Nama kamu adalah : Ivan \n",
      "usia kamu adalah : 26\n"
     ]
    }
   ],
   "source": [
    "nama = input (\"Masukkan nama Anda : \")\n",
    "usia = input (\"Masukkan usia Anda : \")\n",
    "print(f\"\"\"Nama kamu adalah : {nama} \n",
    "Usia kamu adalah : {usia}\"\"\")"
   ]
  },
  {
   "cell_type": "code",
   "execution_count": 29,
   "metadata": {},
   "outputs": [
    {
     "name": "stdout",
     "output_type": "stream",
     "text": [
      "Nama kamu adalah : Ivan\n",
      "Usia kamu adalah : 25\n"
     ]
    }
   ],
   "source": [
    "nama = input (\"Masukkan nama Anda : \")\n",
    "usia = input (\"Masukkan usia Anda : \")\n",
    "print(f\"Nama kamu adalah : {nama}\")\n",
    "print(f\"Usia kamu adalah : {usia}\")"
   ]
  },
  {
   "cell_type": "code",
   "execution_count": 33,
   "metadata": {},
   "outputs": [
    {
     "name": "stdout",
     "output_type": "stream",
     "text": [
      "True\n",
      "False\n",
      "True\n"
     ]
    },
    {
     "data": {
      "text/plain": [
       "bool"
      ]
     },
     "execution_count": 33,
     "metadata": {},
     "output_type": "execute_result"
    }
   ],
   "source": [
    "print(True)\n",
    "print(False)\n",
    "is_married = True\n",
    "print(is_married)\n",
    "type(is_married)\n"
   ]
  },
  {
   "cell_type": "code",
   "execution_count": 35,
   "metadata": {},
   "outputs": [
    {
     "name": "stdout",
     "output_type": "stream",
     "text": [
      "True\n",
      "False\n"
     ]
    }
   ],
   "source": [
    "a = 25\n",
    "print(a == 25)\n",
    "print(a == 30)"
   ]
  },
  {
   "cell_type": "code",
   "execution_count": 36,
   "metadata": {},
   "outputs": [
    {
     "name": "stdout",
     "output_type": "stream",
     "text": [
      "a : 15\n",
      "b : 15\n",
      "c : 15\n",
      "d : 2\n",
      "e : 1\n",
      "f : 3\n"
     ]
    }
   ],
   "source": [
    "# Variabel Assignment\n",
    "a = b = c = 15\n",
    "e,d,f = 1,2,3\n",
    "print(f\"a : {a}\")\n",
    "print(f\"b : {b}\")\n",
    "print(f\"c : {c}\")\n",
    "print(f\"d : {d}\")\n",
    "print(f\"e : {e}\")\n",
    "print(f\"f : {f}\")"
   ]
  },
  {
   "cell_type": "code",
   "execution_count": null,
   "metadata": {},
   "outputs": [],
   "source": [
    "# camel case\n",
    "namaLengkapPria = \"Muhamad Ivan\" #class\n",
    "#pascal case\n",
    "NamaLengkapPria = \"Muhamad Ivan\" # var\n",
    "#snake case\n",
    "nama_lengkap_pria = \"Muhamad Ivan\" #var/fungsi"
   ]
  },
  {
   "cell_type": "markdown",
   "metadata": {},
   "source": [
    "OPERASI "
   ]
  },
  {
   "cell_type": "code",
   "execution_count": 37,
   "metadata": {},
   "outputs": [
    {
     "name": "stdout",
     "output_type": "stream",
     "text": [
      "hasil penjumlahan : 9\n",
      "hasil pengurangan : 5\n",
      "hasil perkalian : 14\n",
      "hasil pembagian : 3.5\n",
      "hasil pembagian sisa bulat : 3\n",
      "hasil pangkat : 49\n",
      "hasil sisa bagi : 1\n"
     ]
    }
   ],
   "source": [
    "# operasi aritmatika\n",
    "angka_1 = 7\n",
    "angka_2 = 2\n",
    "print(f\"hasil penjumlahan : {angka_1 + angka_2}\")\n",
    "print(f\"hasil pengurangan : {angka_1 - angka_2}\")\n",
    "print(f\"hasil perkalian : {angka_1 * angka_2}\")\n",
    "print(f\"hasil pembagian : {angka_1 / angka_2}\")\n",
    "print(f\"hasil pembagian sisa bulat : {angka_1 // angka_2}\")\n",
    "print(f\"hasil pangkat : {angka_1 ** angka_2}\")\n",
    "print(f\"hasil sisa bagi : {angka_1 % angka_2}\")\n"
   ]
  },
  {
   "cell_type": "code",
   "execution_count": 40,
   "metadata": {},
   "outputs": [
    {
     "name": "stdout",
     "output_type": "stream",
     "text": [
      "Nama saya (Concatenation) : MuhamadIvan\n",
      "Repeating : IvanIvanIvan\n"
     ]
    }
   ],
   "source": [
    "# operasi string\n",
    "string_1 = \"Muhamad\"\n",
    "string_2 = \"Ivan\"\n",
    "print(f\"Nama saya (Concatenation) : {string_1 + string_2}\")\n",
    "print(f\"Repeating : {string_2 * 3}\")"
   ]
  },
  {
   "cell_type": "markdown",
   "metadata": {},
   "source": [
    "COMPARISON OPERATOR"
   ]
  },
  {
   "cell_type": "code",
   "execution_count": 46,
   "metadata": {},
   "outputs": [
    {
     "name": "stdout",
     "output_type": "stream",
     "text": [
      " 5 == 10 (sama dengan) : False\n",
      " 5 =|= 10 (tidak sama dengan) : True\n",
      " 5 > 10 (lebih besar) : False\n",
      " a < b (lebih kecil) : True\n",
      " a >= b (lebih besar sama dengan) : False\n"
     ]
    }
   ],
   "source": [
    "a = 5\n",
    "b = 10\n",
    "\n",
    "print(f\" {a} == {b} (sama dengan) : {a == b}\")\n",
    "print(f\" {a} =|= {b} (tidak sama dengan) : {a != b}\")\n",
    "print(f\" {a} > {b} (lebih besar) : {a > b}\")\n",
    "print(f\" a < b (lebih kecil) : {a < b}\")\n",
    "print(f\" a >= b (lebih besar sama dengan) : {a >= b}\")"
   ]
  },
  {
   "cell_type": "markdown",
   "metadata": {},
   "source": [
    "STRING MANIPULATION"
   ]
  },
  {
   "cell_type": "code",
   "execution_count": 52,
   "metadata": {},
   "outputs": [
    {
     "name": "stdout",
     "output_type": "stream",
     "text": [
      "MUHAMAD IVAN\n",
      "muhamad ivan\n",
      "mUHAMAD iVAN\n"
     ]
    }
   ],
   "source": [
    "nama = \"Muhamad Ivan\"\n",
    "print(nama.upper())\n",
    "print(nama.lower())\n",
    "print(nama.swapcase())"
   ]
  },
  {
   "cell_type": "markdown",
   "metadata": {},
   "source": [
    "TIPE DATA MAJEMUK"
   ]
  },
  {
   "cell_type": "code",
   "execution_count": 56,
   "metadata": {},
   "outputs": [
    {
     "name": "stdout",
     "output_type": "stream",
     "text": [
      "6\n",
      "6\n",
      "(2, 3.5)\n",
      "[3.5, 'ivan', True]\n"
     ]
    }
   ],
   "source": [
    "# list[] dan tuple()\n",
    "my_list = [1, 2, 3.5, 'ivan', True, [1,2,3,4]]\n",
    "my_tuple = (1, 2, 3.5, 'ivan', True, (1,2,3,4))\n",
    "print(len(my_list))\n",
    "print(len(my_tuple))\n",
    "my_list[2]\n",
    "print(my_tuple[1:3])\n",
    "print(my_list[2:5])\n"
   ]
  },
  {
   "cell_type": "markdown",
   "metadata": {},
   "source": [
    "TUPLE ADALAH TIPE DATA IMMUTABLE (Data nya tidak bisa diubah/read only). Waktu baca untuk data bentuk ini lebih cepat\n",
    "LIST ADALAH TIPE DATA IMMUTABLE ( DATA NYA BISA DIUBAH)"
   ]
  },
  {
   "cell_type": "code",
   "execution_count": 61,
   "metadata": {},
   "outputs": [
    {
     "name": "stdout",
     "output_type": "stream",
     "text": [
      "(1, 2, 3.5, 'ivan', True, (1, 2, 3, 4))\n",
      "[1, 2, 3.5, 'ivan', 'False', [1, 2, 3, 4]]\n"
     ]
    }
   ],
   "source": [
    "\n",
    "my_list[4] = \"False\"\n",
    "print(my_tuple)\n",
    "print(my_list)"
   ]
  },
  {
   "cell_type": "markdown",
   "metadata": {},
   "source": [
    "List Method"
   ]
  },
  {
   "cell_type": "code",
   "execution_count": 65,
   "metadata": {},
   "outputs": [
    {
     "name": "stdout",
     "output_type": "stream",
     "text": [
      "None\n",
      "None\n",
      "[1, 2, 3, 46, 4, 5, 100]\n"
     ]
    }
   ],
   "source": [
    "# menambahkan data pada list\n",
    "a = [1, 2, 3, 4, 5]\n",
    "print(a.append(100))\n",
    "print(a.insert(3, 46))\n",
    "print(a)\n"
   ]
  },
  {
   "cell_type": "code",
   "execution_count": 67,
   "metadata": {},
   "outputs": [
    {
     "data": {
      "text/plain": [
       "[1, 2, 3, 4, 5]"
      ]
     },
     "execution_count": 67,
     "metadata": {},
     "output_type": "execute_result"
    }
   ],
   "source": [
    "# Menghapus Data\n",
    "a\n",
    "a.remove(100)\n",
    "del a[3]\n",
    "a"
   ]
  },
  {
   "cell_type": "markdown",
   "metadata": {},
   "source": [
    "DICTIONARY"
   ]
  },
  {
   "cell_type": "markdown",
   "metadata": {},
   "source": [
    "biodata = { 'nama' : ' Ivan',\n",
    "            'usia' : '26',\n",
    "            'pekerjaan : 'HSE'\n",
    "            'company' : 'usaha sendiri'}"
   ]
  },
  {
   "cell_type": "code",
   "execution_count": 72,
   "metadata": {},
   "outputs": [
    {
     "name": "stdout",
     "output_type": "stream",
     "text": [
      "{'nama': ' Ivan', 'usia': '26', 'pekerjaan': 'HSE', 'company': 'usaha sendiri'}\n"
     ]
    }
   ],
   "source": [
    "biodata = { 'nama' : ' Ivan',\n",
    "            'usia' : '26',\n",
    "            'pekerjaan' : 'HSE',\n",
    "            'company' : 'usaha sendiri'}\n",
    "\n",
    "print(biodata)"
   ]
  },
  {
   "cell_type": "code",
   "execution_count": 87,
   "metadata": {},
   "outputs": [
    {
     "name": "stdout",
     "output_type": "stream",
     "text": [
      " Ivan\n",
      "26\n",
      "{'nama': ' Ivan', 'usia': '26', 'pekerjaan': 'HSE', 'company': 'usaha sendiri', 'status': 'menikah'}\n",
      "{'nama': ' Ivan', 'usia': '26', 'pekerjaan': 'HSE', 'company': 'usaha sendiri'}\n"
     ]
    }
   ],
   "source": [
    "print(biodata['nama'])\n",
    "print(biodata['usia'])\n",
    "biodata['status'] = 'menikah'\n",
    "print(biodata)\n",
    "del biodata['status']\n",
    "print(biodata)"
   ]
  }
 ],
 "metadata": {
  "kernelspec": {
   "display_name": "Python 3.9.12 ('base')",
   "language": "python",
   "name": "python3"
  },
  "language_info": {
   "codemirror_mode": {
    "name": "ipython",
    "version": 3
   },
   "file_extension": ".py",
   "mimetype": "text/x-python",
   "name": "python",
   "nbconvert_exporter": "python",
   "pygments_lexer": "ipython3",
   "version": "3.9.12"
  },
  "orig_nbformat": 4,
  "vscode": {
   "interpreter": {
    "hash": "a1e1a152066122ccb36bd19c85ab646f64e9a78c298b07636d8dbaa9de0e7be5"
   }
  }
 },
 "nbformat": 4,
 "nbformat_minor": 2
}
