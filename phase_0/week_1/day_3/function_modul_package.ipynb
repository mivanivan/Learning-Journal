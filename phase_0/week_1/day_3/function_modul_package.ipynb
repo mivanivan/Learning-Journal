{
 "cells": [
  {
   "cell_type": "code",
   "execution_count": null,
   "metadata": {},
   "outputs": [],
   "source": [
    "def nama_function (parameter):\n",
    "    '''\n",
    "    docstrings = keterangan\n",
    "    '''\n",
    "    #body\n",
    "    print()\n",
    "    return"
   ]
  },
  {
   "cell_type": "code",
   "execution_count": 1,
   "metadata": {},
   "outputs": [
    {
     "name": "stdout",
     "output_type": "stream",
     "text": [
      "Ivan adalah nama saya\n"
     ]
    }
   ],
   "source": [
    "def cetak (nama):\n",
    "    print(f'{nama} adalah nama saya')\n",
    "\n",
    "cetak('Ivan')"
   ]
  },
  {
   "cell_type": "code",
   "execution_count": 5,
   "metadata": {},
   "outputs": [
    {
     "name": "stdout",
     "output_type": "stream",
     "text": [
      "saya adalah Ivan, pekerjaan saya adalah HSE\n",
      "None\n",
      "saya adalah ivan, pekerjaan saya adalah HSE\n",
      "None\n"
     ]
    }
   ],
   "source": [
    "def cetak (nama, pekerjaan):\n",
    "    print(f'saya adalah {nama}, pekerjaan saya adalah {pekerjaan}')\n",
    "print(cetak('Ivan', 'HSE'))\n",
    "print(cetak(pekerjaan = 'HSE', nama = 'ivan'))"
   ]
  },
  {
   "cell_type": "code",
   "execution_count": 6,
   "metadata": {},
   "outputs": [
    {
     "name": "stdout",
     "output_type": "stream",
     "text": [
      "saya adalah HSE, pekerjaan saya adalah Ivan\n"
     ]
    }
   ],
   "source": [
    "a ='Ivan'\n",
    "b ='HSE'\n",
    "\n",
    "cetak(pekerjaan = a, nama = b)\n"
   ]
  },
  {
   "cell_type": "code",
   "execution_count": 30,
   "metadata": {},
   "outputs": [
    {
     "data": {
      "text/plain": [
       "10"
      ]
     },
     "execution_count": 30,
     "metadata": {},
     "output_type": "execute_result"
    }
   ],
   "source": [
    "def tambah (x,y):\n",
    "    hasil = x+y\n",
    "    return(hasil)\n",
    "tambah(5,5)\n",
    "#print(tambah(hasil))\n"
   ]
  },
  {
   "cell_type": "code",
   "execution_count": 26,
   "metadata": {},
   "outputs": [
    {
     "data": {
      "text/plain": [
       "int"
      ]
     },
     "execution_count": 26,
     "metadata": {},
     "output_type": "execute_result"
    }
   ],
   "source": [
    "x=tambah(5,4)\n",
    "type(x)\n"
   ]
  },
  {
   "cell_type": "code",
   "execution_count": 22,
   "metadata": {},
   "outputs": [
    {
     "name": "stdout",
     "output_type": "stream",
     "text": [
      "[10, 20, 30, 1, 2, 3]\n",
      "[10, 20, 30]\n"
     ]
    }
   ],
   "source": [
    "mylist= [10,20,30]\n",
    "\n",
    "def rubahlist (number):\n",
    "    #global mylist\n",
    "    mylist = number + [1,2,3]\n",
    "    return mylist\n",
    "\n",
    "print(rubahlist(mylist))\n",
    "print(mylist)"
   ]
  },
  {
   "cell_type": "code",
   "execution_count": 28,
   "metadata": {},
   "outputs": [
    {
     "data": {
      "text/plain": [
       "[30, 20, 10, 1, 2, 3]"
      ]
     },
     "execution_count": 28,
     "metadata": {},
     "output_type": "execute_result"
    }
   ],
   "source": [
    "mylist = rubahlist([30,20,10])\n",
    "mylist"
   ]
  },
  {
   "cell_type": "code",
   "execution_count": 36,
   "metadata": {},
   "outputs": [],
   "source": [
    "def berhitung (x,y):\n",
    "    tambah = x+y\n",
    "    kurang = x-y\n",
    "    bagi = x/y\n",
    "    kali = x*y\n",
    "    return tambah,kurang,bagi,kali"
   ]
  },
  {
   "cell_type": "code",
   "execution_count": 37,
   "metadata": {},
   "outputs": [
    {
     "name": "stdout",
     "output_type": "stream",
     "text": [
      "15\n",
      "5\n",
      "2.0\n",
      "50\n"
     ]
    }
   ],
   "source": [
    "a,b,c,d = berhitung(10,5)\n",
    "print(a)\n",
    "print(b)\n",
    "print(c)\n",
    "print(d)"
   ]
  },
  {
   "cell_type": "code",
   "execution_count": 14,
   "metadata": {},
   "outputs": [
    {
     "data": {
      "text/plain": [
       "'ganjil'"
      ]
     },
     "execution_count": 14,
     "metadata": {},
     "output_type": "execute_result"
    }
   ],
   "source": [
    "x = eval(input('masukan angka yang Anda inginkan'))\n",
    "def genap_ganjil (x):\n",
    "    perhitungan = x/2 - x//2\n",
    "    if perhitungan == 0:\n",
    "        return('genap')\n",
    "    else:\n",
    "        return('ganjil')\n",
    "\n",
    "genap_ganjil(x)\n",
    "  \n",
    "\n"
   ]
  },
  {
   "cell_type": "code",
   "execution_count": 9,
   "metadata": {},
   "outputs": [
    {
     "name": "stdout",
     "output_type": "stream",
     "text": [
      "True\n"
     ]
    }
   ],
   "source": [
    "a = input('masukan kata-kata hacktiv8')\n",
    "\n",
    "def deteksi_kata(a):\n",
    "    if a in \"hacktiv8\":\n",
    "        p = print(True)\n",
    "    else:\n",
    "        p = print(False)\n",
    "    return p\n",
    "deteksi_kata(a)"
   ]
  },
  {
   "cell_type": "code",
   "execution_count": 59,
   "metadata": {},
   "outputs": [
    {
     "data": {
      "text/plain": [
       "True"
      ]
     },
     "execution_count": 59,
     "metadata": {},
     "output_type": "execute_result"
    }
   ],
   "source": [
    "kata = input('masukan kata-kata hacktiv8')\n",
    "def deteksi_kata(kata):\n",
    "    return'hacktiv8' in kata.lower()\n",
    "\n",
    "deteksi_kata(kata)"
   ]
  },
  {
   "cell_type": "code",
   "execution_count": 58,
   "metadata": {},
   "outputs": [
    {
     "data": {
      "text/plain": [
       "19"
      ]
     },
     "execution_count": 58,
     "metadata": {},
     "output_type": "execute_result"
    }
   ],
   "source": [
    "def tambah(*args):\n",
    "    return sum(args)\n",
    "tambah(1,2,3,4,4,5,)"
   ]
  },
  {
   "cell_type": "code",
   "execution_count": 2,
   "metadata": {},
   "outputs": [
    {
     "name": "stdout",
     "output_type": "stream",
     "text": [
      "3\n",
      "nama pendaftar Anto\n",
      "tujuan keberangkatan Makasar\n",
      "nama pendaftar Budi\n",
      "tujuan keberangkatan Surabaya\n",
      "nama pendaftar Coki\n",
      "tujuan keberangkatan Medan\n"
     ]
    }
   ],
   "source": [
    "def pendaftaran (data,**kwargs):\n",
    "    print(data)\n",
    "    for key,value in kwargs.items():\n",
    "        print(f'nama pendaftar {key}')\n",
    "        print(f'tujuan keberangkatan {value}')\n",
    "\n",
    "pendaftaran (3, Anto='Makasar', Budi='Surabaya', Coki='Medan')"
   ]
  },
  {
   "cell_type": "code",
   "execution_count": 76,
   "metadata": {},
   "outputs": [
    {
     "name": "stdout",
     "output_type": "stream",
     "text": [
      "Underweight\n",
      "None\n"
     ]
    }
   ],
   "source": [
    "x = int(input('masukan berat Anda '))\n",
    "y = int(input('masukan tinggi Anda '))\n",
    "\n",
    "def BMI(x,y):\n",
    "    BMI_Formula = (x/y**2)\n",
    "    if BMI_Formula <= 18.5:\n",
    "        return(print('Underweight'))\n",
    "    elif BMI_Formula <= 24.9:\n",
    "        return(print('normal'))\n",
    "    elif BMI_Formula <= 29.9:\n",
    "        return(print('overweight'))\n",
    "    else:\n",
    "        return(print('very overweight'))\n",
    "\n",
    "print(BMI(x,y))\n",
    "    \n",
    "       "
   ]
  },
  {
   "cell_type": "code",
   "execution_count": 2,
   "metadata": {},
   "outputs": [
    {
     "ename": "TypeError",
     "evalue": "foo() takes 1 positional argument but 3 were given",
     "output_type": "error",
     "traceback": [
      "\u001b[1;31m---------------------------------------------------------------------------\u001b[0m",
      "\u001b[1;31mTypeError\u001b[0m                                 Traceback (most recent call last)",
      "\u001b[1;32mc:\\Users\\ASUS TUF\\Documents\\9. Materi Data Scientist\\FTDS013\\learning_journal\\phase_0\\week_1\\day_3\\function_modul_package.ipynb Cell 15'\u001b[0m in \u001b[0;36m<cell line: 5>\u001b[1;34m()\u001b[0m\n\u001b[0;32m      <a href='vscode-notebook-cell:/c%3A/Users/ASUS%20TUF/Documents/9.%20Materi%20Data%20Scientist/FTDS013/learning_journal/phase_0/week_1/day_3/function_modul_package.ipynb#ch0000014?line=1'>2</a>\u001b[0m \u001b[39mdef\u001b[39;00m \u001b[39mfoo\u001b[39m (arg):\n\u001b[0;32m      <a href='vscode-notebook-cell:/c%3A/Users/ASUS%20TUF/Documents/9.%20Materi%20Data%20Scientist/FTDS013/learning_journal/phase_0/week_1/day_3/function_modul_package.ipynb#ch0000014?line=2'>3</a>\u001b[0m     \u001b[39mprint\u001b[39m(\u001b[39mf\u001b[39m\u001b[39m'\u001b[39m\u001b[39marg = \u001b[39m\u001b[39m{\u001b[39;00marg\u001b[39m}\u001b[39;00m\u001b[39m'\u001b[39m)\n\u001b[1;32m----> <a href='vscode-notebook-cell:/c%3A/Users/ASUS%20TUF/Documents/9.%20Materi%20Data%20Scientist/FTDS013/learning_journal/phase_0/week_1/day_3/function_modul_package.ipynb#ch0000014?line=4'>5</a>\u001b[0m foo(\u001b[39m100\u001b[39;49m,\u001b[39m200\u001b[39;49m,\u001b[39m300\u001b[39;49m)\n",
      "\u001b[1;31mTypeError\u001b[0m: foo() takes 1 positional argument but 3 were given"
     ]
    }
   ],
   "source": [
    "a = [100,200,300]\n",
    "def foo (arg):\n",
    "    print(f'arg = {arg}')\n",
    "\n",
    "foo(100,200,300)\n",
    "    \n",
    "\n"
   ]
  },
  {
   "cell_type": "code",
   "execution_count": null,
   "metadata": {},
   "outputs": [],
   "source": []
  }
 ],
 "metadata": {
  "kernelspec": {
   "display_name": "Python 3.9.12 ('base')",
   "language": "python",
   "name": "python3"
  },
  "language_info": {
   "codemirror_mode": {
    "name": "ipython",
    "version": 3
   },
   "file_extension": ".py",
   "mimetype": "text/x-python",
   "name": "python",
   "nbconvert_exporter": "python",
   "pygments_lexer": "ipython3",
   "version": "3.9.12"
  },
  "orig_nbformat": 4,
  "vscode": {
   "interpreter": {
    "hash": "a1e1a152066122ccb36bd19c85ab646f64e9a78c298b07636d8dbaa9de0e7be5"
   }
  }
 },
 "nbformat": 4,
 "nbformat_minor": 2
}
