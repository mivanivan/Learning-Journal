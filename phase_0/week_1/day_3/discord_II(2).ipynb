{
 "cells": [
  {
   "cell_type": "code",
   "execution_count": 64,
   "metadata": {},
   "outputs": [
    {
     "data": {
      "text/plain": [
       "'Kata bobo tidak terdapat pada kalimat ini'"
      ]
     },
     "execution_count": 64,
     "metadata": {},
     "output_type": "execute_result"
    }
   ],
   "source": [
    "def deteksi(): \n",
    "    x= 'apa kabar kamu ?'\n",
    "    z= input ('masukan kata yang ingin dicari? ')\n",
    "    z= z.lower() \n",
    "    jadikan_list = x.split(' ')\n",
    "    enumapel = enumerate(jadikan_list) \n",
    "    for x,y in enumapel: \n",
    "        if z == y: \n",
    "            urutan_angka = x+1\n",
    "            return(f'Kata {z} berada di kata ke-{urutan_angka} pada kalimat ini.')\n",
    "        else:\n",
    "            continue                 \n",
    "    return(f'Kata {z} tidak terdapat pada kalimat ini')\n",
    "\n",
    "    \n",
    "deteksi()"
   ]
  },
  {
   "cell_type": "code",
   "execution_count": 48,
   "metadata": {},
   "outputs": [
    {
     "name": "stdout",
     "output_type": "stream",
     "text": [
      "0 Matematika\n",
      "1 IPA\n",
      "2 IPS\n",
      "3 B.Indo\n",
      "4 B.Inggris\n"
     ]
    }
   ],
   "source": [
    "mapel = ['Matematika', 'IPA', 'IPS', 'B.Indo', 'B.Inggris']\n",
    "enumapel = enumerate(mapel)\n",
    "for a,b in enumapel:\n",
    "\tprint(a,b)"
   ]
  },
  {
   "cell_type": "code",
   "execution_count": null,
   "metadata": {},
   "outputs": [],
   "source": [
    "mapel = ['Matematika', 'IPA', 'IPS', 'B.Indo', 'B.Inggris']\n",
    "enumapel = enumerate(mapel)\n",
    "enumapel"
   ]
  }
 ],
 "metadata": {
  "kernelspec": {
   "display_name": "Python 3.9.12 ('base')",
   "language": "python",
   "name": "python3"
  },
  "language_info": {
   "codemirror_mode": {
    "name": "ipython",
    "version": 3
   },
   "file_extension": ".py",
   "mimetype": "text/x-python",
   "name": "python",
   "nbconvert_exporter": "python",
   "pygments_lexer": "ipython3",
   "version": "3.9.12"
  },
  "orig_nbformat": 4,
  "vscode": {
   "interpreter": {
    "hash": "a1e1a152066122ccb36bd19c85ab646f64e9a78c298b07636d8dbaa9de0e7be5"
   }
  }
 },
 "nbformat": 4,
 "nbformat_minor": 2
}
