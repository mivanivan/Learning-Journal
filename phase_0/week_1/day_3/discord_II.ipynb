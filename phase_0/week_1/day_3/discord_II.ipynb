{
 "cells": [
  {
   "cell_type": "markdown",
   "metadata": {},
   "source": [
    "LATIHAN DISCORD 15 JUNI 2022\n",
    "Loop, Conditional IF, Function, Numpy\n",
    "\n",
    "Buatlah sebuah fungsi untuk mendeteksi suatu kata terdapat pada suatu kalimat dan posisinya berada di kata ke-berapa dalam sebuah kalimat. Gunakan Loop, Conditional If, dan Numpy array untuk kasus ini.\n",
    "\n",
    "Expected Output 1:\n",
    "In: word_detection(\"apa\", \"apa kabar kamu?\")\n",
    "Out: Kata 'apa' berada di kata ke-1 pada kalimat ini.\n",
    "\n",
    "\n",
    "Expected Output 2:\n",
    "In: word_detection(\"apa\", \"kamu siapa namanya?\")\n",
    "Out: Kata 'apa' tidak terdapat pada kalimat ini."
   ]
  },
  {
   "cell_type": "code",
   "execution_count": 39,
   "metadata": {},
   "outputs": [
    {
     "data": {
      "text/plain": [
       "'Kata kamu berada di kata ke-3 pada kalimat ini.'"
      ]
     },
     "execution_count": 39,
     "metadata": {},
     "output_type": "execute_result"
    }
   ],
   "source": [
    "#Expected Output 1\n",
    "#Expected Output 2:\n",
    "x= 'apa kabar kamu ?'\n",
    "y = input ('masukan kata yang ingin dicari? ')\n",
    "y=y.lower()\n",
    "def deteksi(x): \n",
    "    jadikan_list = x.split(' ') \n",
    "    if y in jadikan_list: \n",
    "        urutan_angka = jadikan_list.index(y)+1\n",
    "        return(f'Kata {y} berada di kata ke-{urutan_angka} pada kalimat ini.')\n",
    "        \n",
    "    else:\n",
    "        return(f'Kata {y} tidak terdapat pada kalimat ini')\n",
    "        \n",
    "(deteksi(x))\n",
    "\n"
   ]
  },
  {
   "cell_type": "code",
   "execution_count": 16,
   "metadata": {},
   "outputs": [
    {
     "name": "stdout",
     "output_type": "stream",
     "text": [
      "Jumlah Kata: 3\n",
      "Jumlah Karakter: 18\n"
     ]
    }
   ],
   "source": [
    "def menghitung_kata():\n",
    "    masukan_kata_kamu = input('Masukan Sebuah Kata: ')\n",
    "    jadikan_list = masukan_kata_kamu.split()\n",
    "    hitung_jumlah_kata = len(jadikan_list)\n",
    "    print ('Jumlah Kata:', hitung_jumlah_kata)\n",
    "    print ('Jumlah Karakter:', len(masukan_kata_kamu))\n",
    "menghitung_kata()"
   ]
  },
  {
   "cell_type": "code",
   "execution_count": 62,
   "metadata": {},
   "outputs": [
    {
     "data": {
      "text/plain": [
       "'Kata apa berada di kata ke-1 pada kalimat ini.'"
      ]
     },
     "execution_count": 62,
     "metadata": {},
     "output_type": "execute_result"
    }
   ],
   "source": [
    " def deteksi(): \n",
    "    x= 'apa kabar kamu ?'\n",
    "    z= input ('masukan kata yang ingin dicari? ')\n",
    "    z= z.lower() \n",
    "    jadikan_list = x.split(' ')\n",
    "    enumapel = enumerate(jadikan_list) \n",
    "    for x,y in enumapel: \n",
    "        if z == y: \n",
    "            urutan_angka = x+1\n",
    "            return(f'Kata {z} berada di kata ke-{urutan_angka} pada kalimat ini.')\n",
    "        else:\n",
    "            continue                 \n",
    "    return(f'Kata {z} tidak terdapat pada kalimat ini')\n",
    "\n",
    "deteksi()\n"
   ]
  },
  {
   "cell_type": "code",
   "execution_count": 35,
   "metadata": {},
   "outputs": [
    {
     "name": "stdout",
     "output_type": "stream",
     "text": [
      "Kata 'apa' berada di kata ke-0 pada kalimat ini.\n"
     ]
    }
   ],
   "source": [
    "def word_detection(str):\n",
    "    split_str = str.split(' ')\n",
    "    found = False\n",
    "    for x,y in enumerate(split_str):\n",
    "        if 'apa' == y:\n",
    "            print(f\"Kata 'apa' berada di kata ke-{x} pada kalimat ini.\")\n",
    "            found = True\n",
    "        else:\n",
    "            continue\n",
    "    \n",
    "    if found != True:\n",
    "        print(f\"Kata 'apa' tidak terdapat pada kalimat ini.\")\n",
    "\n",
    "\n",
    "\n",
    "str = input(\"masukkan kata : \")\n",
    "word_detection(str)"
   ]
  }
 ],
 "metadata": {
  "kernelspec": {
   "display_name": "Python 3.9.12 ('base')",
   "language": "python",
   "name": "python3"
  },
  "language_info": {
   "codemirror_mode": {
    "name": "ipython",
    "version": 3
   },
   "file_extension": ".py",
   "mimetype": "text/x-python",
   "name": "python",
   "nbconvert_exporter": "python",
   "pygments_lexer": "ipython3",
   "version": "3.9.12"
  },
  "orig_nbformat": 4,
  "vscode": {
   "interpreter": {
    "hash": "a1e1a152066122ccb36bd19c85ab646f64e9a78c298b07636d8dbaa9de0e7be5"
   }
  }
 },
 "nbformat": 4,
 "nbformat_minor": 2
}
