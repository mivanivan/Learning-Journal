{
 "cells": [
  {
   "cell_type": "markdown",
   "metadata": {},
   "source": [
    "KONVERSI SUHU FAHRENHEIT, CELCIUS, KELVIN"
   ]
  },
  {
   "cell_type": "code",
   "execution_count": 18,
   "metadata": {},
   "outputs": [
    {
     "name": "stdout",
     "output_type": "stream",
     "text": [
      "masukan konversi suhu berupa kelvin atau fahrenheit\n"
     ]
    }
   ],
   "source": [
    "def converter ():\n",
    "    x = input(\" Satuan Suhu Anda ? \")\n",
    "    x = x.lower()\n",
    "    if x == 'celcius' or x =='fahrenheit' or x=='kelvin':\n",
    "        y = eval(input(\" Masukan besar suhu ? \"))\n",
    "        z = input(' Konversi suhu ke ?')\n",
    "        z = z.lower()\n",
    "        if x == \"kelvin\":\n",
    "            if z == 'celcius':\n",
    "                suhu_celcius = y - 273.15\n",
    "                return(suhu_celcius)\n",
    "            elif z== 'fahrenheit':\n",
    "                suhu_fahrenheit = (y - 273.15) * 9/5 + 32\n",
    "                return(suhu_fahrenheit)\n",
    "            else:\n",
    "                return('masukan konversi suhu berupa celcius atau fahrenheit')\n",
    "        if x == \"celcius\":\n",
    "            if z == 'kelvin':\n",
    "                suhu_kelvin = y + 273.15\n",
    "                return(suhu_kelvin)\n",
    "            elif z == 'fahrenheit':\n",
    "                suhu_fahrenheit = y * 9/5 + 32\n",
    "                return(suhu_fahrenheit)\n",
    "            else:\n",
    "                return('masukan konversi suhu berupa kelvin atau fahrenheit')\n",
    "        if x == \"fahrenheit\":\n",
    "            if z == 'kelvin':\n",
    "                suhu_kelvin = (y-32)*5/9 + 273.15\n",
    "                return(suhu_kelvin)\n",
    "            elif z == 'celcius':\n",
    "                suhu_celcius = (y-32)*5/9 + 273.15\n",
    "                return(suhu_celcius)\n",
    "            else:\n",
    "                return('masukan konversi suhu berupa kelvin atau celcius')\n",
    "        \n",
    "    else:\n",
    "        return('masukan satuan suhu berupa celcius, fahrenheit, atau kelvin')\n",
    "  \n",
    "\n",
    "print(converter())\n",
    "    \n",
    "\n"
   ]
  }
 ],
 "metadata": {
  "kernelspec": {
   "display_name": "Python 3.9.12 ('base')",
   "language": "python",
   "name": "python3"
  },
  "language_info": {
   "codemirror_mode": {
    "name": "ipython",
    "version": 3
   },
   "file_extension": ".py",
   "mimetype": "text/x-python",
   "name": "python",
   "nbconvert_exporter": "python",
   "pygments_lexer": "ipython3",
   "version": "3.9.12"
  },
  "orig_nbformat": 4,
  "vscode": {
   "interpreter": {
    "hash": "a1e1a152066122ccb36bd19c85ab646f64e9a78c298b07636d8dbaa9de0e7be5"
   }
  }
 },
 "nbformat": 4,
 "nbformat_minor": 2
}
